{
 "cells": [
  {
   "cell_type": "code",
   "execution_count": null,
   "id": "401ce6de",
   "metadata": {},
   "outputs": [],
   "source": [
    "# This notebook file is going to utilize the already pulled databases that I got and use ai to generate categories\n",
    "# for the titles of each of the items in that database."
   ]
  }
 ],
 "metadata": {
  "language_info": {
   "name": "python"
  }
 },
 "nbformat": 4,
 "nbformat_minor": 5
}
